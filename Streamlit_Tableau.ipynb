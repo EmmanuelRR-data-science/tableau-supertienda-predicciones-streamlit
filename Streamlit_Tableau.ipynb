{
  "nbformat": 4,
  "nbformat_minor": 0,
  "metadata": {
    "colab": {
      "provenance": []
    },
    "kernelspec": {
      "name": "python3",
      "display_name": "Python 3"
    },
    "language_info": {
      "name": "python"
    }
  },
  "cells": [
    {
      "cell_type": "code",
      "execution_count": 4,
      "metadata": {
        "colab": {
          "base_uri": "https://localhost:8080/",
          "height": 1000
        },
        "id": "ANfdjpMnB1d2",
        "outputId": "cc0e8281-4dc3-4e8b-d8f9-723cce20a302"
      },
      "outputs": [
        {
          "output_type": "stream",
          "name": "stdout",
          "text": [
            "   Id. de la fila  Id. del pedido Fecha del pedido Fecha de envío  \\\n",
            "0            1682  MX-2023-111899       2023-04-02     2023-04-06   \n",
            "1            5919  MX-2023-113922       2023-10-08     2023-10-11   \n",
            "2            5920  MX-2023-113922       2023-10-08     2023-10-11   \n",
            "3            9013  MX-2021-163888       2021-06-14     2021-06-18   \n",
            "4            9014  MX-2021-163888       2021-06-14     2021-06-18   \n",
            "\n",
            "  Método de envío Id. del cliente  Nombre del cliente Segmento  \\\n",
            "0        Estándar        AM-11365  Araceli Manzanares  Empresa   \n",
            "1          Rápido        BS-12130   Benjamín Saavedra  Cliente   \n",
            "2          Rápido        BS-12130   Benjamín Saavedra  Cliente   \n",
            "3        Estándar        AT-10090     Alejandro Trejo  Cliente   \n",
            "4        Estándar        AT-10090     Alejandro Trejo  Cliente   \n",
            "\n",
            "            Ciudad Provincia/Estado/Departamento País/Región Región  \\\n",
            "0  Cruzeiro do Sul                          Acre      Brasil    Sur   \n",
            "1       Rio Branco                          Acre      Brasil    Sur   \n",
            "2       Rio Branco                          Acre      Brasil    Sur   \n",
            "3       Rio Branco                          Acre      Brasil    Sur   \n",
            "4       Rio Branco                          Acre      Brasil    Sur   \n",
            "\n",
            "  Id. del producto            Categoría Subcategoría  \\\n",
            "0  MAT-AR-10004857  Material de oficina         Arte   \n",
            "1  MOB-LI-10000647           Mobiliario    Librerías   \n",
            "2  MAT-CA-10002956  Material de oficina     Carpetas   \n",
            "3  MOB-MO-10002100           Mobiliario   Mobiliario   \n",
            "4  MOB-LI-10002747           Mobiliario    Librerías   \n",
            "\n",
            "                    Nombre del producto  Ventas  Cantidad  Descuento  Ganancia  \n",
            "0  Boston Rotuladores, Tamaños variados   591.0         3        0.0     206.4  \n",
            "1     Dania Conjunto de estantes, Metal  2250.8         2        0.0     922.8  \n",
            "2           Avery Anillas, Transparente   129.0         5        0.0      11.0  \n",
            "3        Tenex Bandeja apiladora, Negro   504.6         3        0.0      95.4  \n",
            "4           Safco Vitrina, Convencional  3376.8         3        0.0     641.4  \n",
            "                         RMSE          MAE        R2\n",
            "Regresión Lineal  2907.543462  1616.659263  0.259349\n",
            "Random Forest     2399.148048  1193.944116  0.495716\n",
            "XGBoost           2455.500458  1255.888462  0.471748\n"
          ]
        },
        {
          "output_type": "display_data",
          "data": {
            "text/plain": [
              "<Figure size 800x500 with 1 Axes>"
            ],
            "image/png": "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\n"
          },
          "metadata": {}
        }
      ],
      "source": [
        "# ======================================\n",
        "# 1. Importar librerías\n",
        "# ======================================\n",
        "import pandas as pd\n",
        "import numpy as np\n",
        "import matplotlib.pyplot as plt\n",
        "import seaborn as sns\n",
        "\n",
        "from sklearn.model_selection import train_test_split\n",
        "from sklearn.preprocessing import LabelEncoder\n",
        "from sklearn.metrics import mean_squared_error, mean_absolute_error, r2_score\n",
        "\n",
        "from sklearn.linear_model import LinearRegression\n",
        "from sklearn.ensemble import RandomForestRegressor\n",
        "from xgboost import XGBRegressor\n",
        "\n",
        "# ======================================\n",
        "# 2. Cargar datos\n",
        "# ======================================\n",
        "df = pd.read_excel(\"Muestra - Supertienda.xls\")\n",
        "\n",
        "# Vista rápida\n",
        "print(df.head())\n",
        "\n",
        "# ======================================\n",
        "# 3. Preprocesamiento\n",
        "# ======================================\n",
        "# Convertir fechas\n",
        "df['Fecha del pedido'] = pd.to_datetime(df['Fecha del pedido'])\n",
        "df['Fecha de envío'] = pd.to_datetime(df['Fecha de envío'])\n",
        "\n",
        "# Variables de tiempo\n",
        "df['Año'] = df['Fecha del pedido'].dt.year\n",
        "df['Mes'] = df['Fecha del pedido'].dt.month\n",
        "\n",
        "# Codificar variables categóricas\n",
        "categorical_cols = ['Categoría', 'Subcategoría', 'Región', 'Segmento']\n",
        "encoder = LabelEncoder()\n",
        "for col in categorical_cols:\n",
        "    df[col] = encoder.fit_transform(df[col])\n",
        "\n",
        "# Variables predictoras y target\n",
        "X = df[['Año', 'Mes', 'Categoría', 'Subcategoría', 'Región', 'Segmento', 'Cantidad', 'Descuento']]\n",
        "y = df['Ventas']\n",
        "\n",
        "# ======================================\n",
        "# 4. División train/test\n",
        "# ======================================\n",
        "X_train, X_test, y_train, y_test = train_test_split(X, y, test_size=0.2, random_state=42)\n",
        "\n",
        "# ======================================\n",
        "# 5. Modelado\n",
        "# ======================================\n",
        "models = {\n",
        "    \"Regresión Lineal\": LinearRegression(),\n",
        "    \"Random Forest\": RandomForestRegressor(n_estimators=100, random_state=42),\n",
        "    \"XGBoost\": XGBRegressor(n_estimators=100, random_state=42)\n",
        "}\n",
        "\n",
        "results = {}\n",
        "\n",
        "for name, model in models.items():\n",
        "    model.fit(X_train, y_train)\n",
        "    y_pred = model.predict(X_test)\n",
        "\n",
        "    rmse = np.sqrt(mean_squared_error(y_test, y_pred))\n",
        "    mae = mean_absolute_error(y_test, y_pred)\n",
        "    r2 = r2_score(y_test, y_pred)\n",
        "\n",
        "    results[name] = {\"RMSE\": rmse, \"MAE\": mae, \"R2\": r2}\n",
        "\n",
        "# Mostrar resultados\n",
        "results_df = pd.DataFrame(results).T\n",
        "print(results_df)\n",
        "\n",
        "# ======================================\n",
        "# 6. Visualización de resultados\n",
        "# ======================================\n",
        "plt.figure(figsize=(8,5))\n",
        "sns.barplot(x=results_df.index, y=results_df['R2'])\n",
        "plt.title(\"Comparación de modelos (R²)\")\n",
        "plt.show()"
      ]
    },
    {
      "cell_type": "markdown",
      "source": [
        "# Dashboard interactivo en Streamlit"
      ],
      "metadata": {
        "id": "mpf3CXkJNd9p"
      }
    },
    {
      "cell_type": "code",
      "source": [
        "!pip install streamlit pyngrok"
      ],
      "metadata": {
        "colab": {
          "base_uri": "https://localhost:8080/"
        },
        "id": "QnET4wYTDhf0",
        "outputId": "c0c1ef43-34b0-4ffc-d1f8-9d140523cba0"
      },
      "execution_count": 11,
      "outputs": [
        {
          "output_type": "stream",
          "name": "stdout",
          "text": [
            "Requirement already satisfied: streamlit in /usr/local/lib/python3.12/dist-packages (1.48.1)\n",
            "Requirement already satisfied: pyngrok in /usr/local/lib/python3.12/dist-packages (7.3.0)\n",
            "Requirement already satisfied: altair!=5.4.0,!=5.4.1,<6,>=4.0 in /usr/local/lib/python3.12/dist-packages (from streamlit) (5.5.0)\n",
            "Requirement already satisfied: blinker<2,>=1.5.0 in /usr/local/lib/python3.12/dist-packages (from streamlit) (1.9.0)\n",
            "Requirement already satisfied: cachetools<7,>=4.0 in /usr/local/lib/python3.12/dist-packages (from streamlit) (5.5.2)\n",
            "Requirement already satisfied: click<9,>=7.0 in /usr/local/lib/python3.12/dist-packages (from streamlit) (8.2.1)\n",
            "Requirement already satisfied: numpy<3,>=1.23 in /usr/local/lib/python3.12/dist-packages (from streamlit) (2.0.2)\n",
            "Requirement already satisfied: packaging<26,>=20 in /usr/local/lib/python3.12/dist-packages (from streamlit) (25.0)\n",
            "Requirement already satisfied: pandas<3,>=1.4.0 in /usr/local/lib/python3.12/dist-packages (from streamlit) (2.2.2)\n",
            "Requirement already satisfied: pillow<12,>=7.1.0 in /usr/local/lib/python3.12/dist-packages (from streamlit) (11.3.0)\n",
            "Requirement already satisfied: protobuf<7,>=3.20 in /usr/local/lib/python3.12/dist-packages (from streamlit) (5.29.5)\n",
            "Requirement already satisfied: pyarrow>=7.0 in /usr/local/lib/python3.12/dist-packages (from streamlit) (18.1.0)\n",
            "Requirement already satisfied: requests<3,>=2.27 in /usr/local/lib/python3.12/dist-packages (from streamlit) (2.32.3)\n",
            "Requirement already satisfied: tenacity<10,>=8.1.0 in /usr/local/lib/python3.12/dist-packages (from streamlit) (9.1.2)\n",
            "Requirement already satisfied: toml<2,>=0.10.1 in /usr/local/lib/python3.12/dist-packages (from streamlit) (0.10.2)\n",
            "Requirement already satisfied: typing-extensions<5,>=4.4.0 in /usr/local/lib/python3.12/dist-packages (from streamlit) (4.14.1)\n",
            "Requirement already satisfied: watchdog<7,>=2.1.5 in /usr/local/lib/python3.12/dist-packages (from streamlit) (6.0.0)\n",
            "Requirement already satisfied: gitpython!=3.1.19,<4,>=3.0.7 in /usr/local/lib/python3.12/dist-packages (from streamlit) (3.1.45)\n",
            "Requirement already satisfied: pydeck<1,>=0.8.0b4 in /usr/local/lib/python3.12/dist-packages (from streamlit) (0.9.1)\n",
            "Requirement already satisfied: tornado!=6.5.0,<7,>=6.0.3 in /usr/local/lib/python3.12/dist-packages (from streamlit) (6.4.2)\n",
            "Requirement already satisfied: PyYAML>=5.1 in /usr/local/lib/python3.12/dist-packages (from pyngrok) (6.0.2)\n",
            "Requirement already satisfied: jinja2 in /usr/local/lib/python3.12/dist-packages (from altair!=5.4.0,!=5.4.1,<6,>=4.0->streamlit) (3.1.6)\n",
            "Requirement already satisfied: jsonschema>=3.0 in /usr/local/lib/python3.12/dist-packages (from altair!=5.4.0,!=5.4.1,<6,>=4.0->streamlit) (4.25.0)\n",
            "Requirement already satisfied: narwhals>=1.14.2 in /usr/local/lib/python3.12/dist-packages (from altair!=5.4.0,!=5.4.1,<6,>=4.0->streamlit) (2.1.1)\n",
            "Requirement already satisfied: gitdb<5,>=4.0.1 in /usr/local/lib/python3.12/dist-packages (from gitpython!=3.1.19,<4,>=3.0.7->streamlit) (4.0.12)\n",
            "Requirement already satisfied: python-dateutil>=2.8.2 in /usr/local/lib/python3.12/dist-packages (from pandas<3,>=1.4.0->streamlit) (2.9.0.post0)\n",
            "Requirement already satisfied: pytz>=2020.1 in /usr/local/lib/python3.12/dist-packages (from pandas<3,>=1.4.0->streamlit) (2025.2)\n",
            "Requirement already satisfied: tzdata>=2022.7 in /usr/local/lib/python3.12/dist-packages (from pandas<3,>=1.4.0->streamlit) (2025.2)\n",
            "Requirement already satisfied: charset-normalizer<4,>=2 in /usr/local/lib/python3.12/dist-packages (from requests<3,>=2.27->streamlit) (3.4.3)\n",
            "Requirement already satisfied: idna<4,>=2.5 in /usr/local/lib/python3.12/dist-packages (from requests<3,>=2.27->streamlit) (3.10)\n",
            "Requirement already satisfied: urllib3<3,>=1.21.1 in /usr/local/lib/python3.12/dist-packages (from requests<3,>=2.27->streamlit) (2.5.0)\n",
            "Requirement already satisfied: certifi>=2017.4.17 in /usr/local/lib/python3.12/dist-packages (from requests<3,>=2.27->streamlit) (2025.8.3)\n",
            "Requirement already satisfied: smmap<6,>=3.0.1 in /usr/local/lib/python3.12/dist-packages (from gitdb<5,>=4.0.1->gitpython!=3.1.19,<4,>=3.0.7->streamlit) (5.0.2)\n",
            "Requirement already satisfied: MarkupSafe>=2.0 in /usr/local/lib/python3.12/dist-packages (from jinja2->altair!=5.4.0,!=5.4.1,<6,>=4.0->streamlit) (3.0.2)\n",
            "Requirement already satisfied: attrs>=22.2.0 in /usr/local/lib/python3.12/dist-packages (from jsonschema>=3.0->altair!=5.4.0,!=5.4.1,<6,>=4.0->streamlit) (25.3.0)\n",
            "Requirement already satisfied: jsonschema-specifications>=2023.03.6 in /usr/local/lib/python3.12/dist-packages (from jsonschema>=3.0->altair!=5.4.0,!=5.4.1,<6,>=4.0->streamlit) (2025.4.1)\n",
            "Requirement already satisfied: referencing>=0.28.4 in /usr/local/lib/python3.12/dist-packages (from jsonschema>=3.0->altair!=5.4.0,!=5.4.1,<6,>=4.0->streamlit) (0.36.2)\n",
            "Requirement already satisfied: rpds-py>=0.7.1 in /usr/local/lib/python3.12/dist-packages (from jsonschema>=3.0->altair!=5.4.0,!=5.4.1,<6,>=4.0->streamlit) (0.27.0)\n",
            "Requirement already satisfied: six>=1.5 in /usr/local/lib/python3.12/dist-packages (from python-dateutil>=2.8.2->pandas<3,>=1.4.0->streamlit) (1.17.0)\n"
          ]
        }
      ]
    },
    {
      "cell_type": "code",
      "source": [
        "# Liberar el túnel en streamlit\n",
        "from pyngrok import ngrok\n",
        "ngrok.kill()"
      ],
      "metadata": {
        "id": "ggKTG6-qIXrT"
      },
      "execution_count": 76,
      "outputs": []
    },
    {
      "cell_type": "code",
      "source": [
        "# Construir la app\n",
        "%%writefile app.py\n",
        "import streamlit as st\n",
        "import pandas as pd\n",
        "import numpy as np\n",
        "from sklearn.ensemble import RandomForestRegressor\n",
        "from sklearn.preprocessing import LabelEncoder\n",
        "import altair as alt\n",
        "\n",
        "def main():\n",
        "    st.set_page_config(page_title=\"Dashboard Ventas - Supertienda\", layout=\"wide\")\n",
        "\n",
        "    st.title(\"📊 Dashboard Interactivo de Ventas - Supertienda\")\n",
        "    st.markdown(\"\"\"\n",
        "    Explora los datos históricos, visualiza KPIs y realiza predicciones de ventas.\n",
        "    \"\"\")\n",
        "\n",
        "    # ===============================\n",
        "    # Carga de dataset\n",
        "    # ===============================\n",
        "    file = st.file_uploader(\"📂 Sube tu dataset (Excel o CSV, versión en español únicamente)\", type=[\"xls\",\"xlsx\",\"csv\"])\n",
        "\n",
        "    if file:\n",
        "        if file.name.endswith(\".csv\"):\n",
        "            df = pd.read_csv(file)\n",
        "        else:\n",
        "            df = pd.read_excel(file)\n",
        "\n",
        "        # ===============================\n",
        "        # Preprocesamiento\n",
        "        # ===============================\n",
        "        df['Fecha del pedido'] = pd.to_datetime(df['Fecha del pedido'])\n",
        "        df['Fecha de envío'] = pd.to_datetime(df['Fecha de envío'])\n",
        "        df['Año'] = df['Fecha del pedido'].dt.year\n",
        "        df['Mes'] = df['Fecha del pedido'].dt.month\n",
        "\n",
        "        categorical_cols = ['Categoría', 'Subcategoría', 'Región', 'Segmento']\n",
        "        encoders = {}\n",
        "        encoded_options = {}\n",
        "\n",
        "        for col in categorical_cols:\n",
        "            le = LabelEncoder()\n",
        "            df[col] = le.fit_transform(df[col])\n",
        "            encoders[col] = le\n",
        "            encoded_options[col] = {name: code for name, code in zip(le.classes_, le.transform(le.classes_))}\n",
        "\n",
        "        # ===============================\n",
        "        # KPIs\n",
        "        # ===============================\n",
        "        st.subheader(\"📌 KPIs de ventas\")\n",
        "        col1, col2, col3 = st.columns(3)\n",
        "        col1.metric(\"Ventas totales\", f\"${df['Ventas'].sum():,.2f}\")\n",
        "        col2.metric(\"Ventas promedio\", f\"${df['Ventas'].mean():,.2f}\")\n",
        "        col3.metric(\"Cantidad total\", int(df['Cantidad'].sum()))\n",
        "\n",
        "        # ===============================\n",
        "        # Gráficos históricos\n",
        "        # ===============================\n",
        "        st.subheader(\"📈 Tendencias de ventas\")\n",
        "\n",
        "        ventas_mes = df.groupby(['Año','Mes'])['Ventas'].sum().reset_index()\n",
        "        chart1 = alt.Chart(ventas_mes).mark_line(point=True).encode(\n",
        "            x=alt.X('Mes:O', title='Mes'),\n",
        "            y=alt.Y('Ventas', title='Ventas Totales'),\n",
        "            color='Año:N',\n",
        "            tooltip=['Año','Mes','Ventas']\n",
        "        ).interactive()\n",
        "        st.altair_chart(chart1, use_container_width=True)\n",
        "\n",
        "        ventas_cat = df.groupby('Categoría')['Ventas'].sum().reset_index()\n",
        "        chart2 = alt.Chart(ventas_cat).mark_bar().encode(\n",
        "            x='Categoría:N',\n",
        "            y='Ventas',\n",
        "            tooltip=['Categoría','Ventas']\n",
        "        )\n",
        "        st.altair_chart(chart2, use_container_width=True)\n",
        "\n",
        "        # ===============================\n",
        "        # Entrenamiento del modelo\n",
        "        # ===============================\n",
        "        X = df[['Año', 'Mes', 'Categoría', 'Subcategoría', 'Región', 'Segmento', 'Cantidad', 'Descuento']]\n",
        "        y = df['Ventas']\n",
        "\n",
        "        model = RandomForestRegressor(n_estimators=100, random_state=42)\n",
        "        model.fit(X, y)\n",
        "        st.success(\"✅ Modelo Random Forest entrenado\")\n",
        "\n",
        "        # ===============================\n",
        "        # Simulador de predicción\n",
        "        # ===============================\n",
        "        st.subheader(\"🛠️ Simulador de predicciones\")\n",
        "        col1, col2 = st.columns(2)\n",
        "\n",
        "        with col1:\n",
        "            año = st.number_input(\"Año\", min_value=int(df['Año'].min()), max_value=int(df['Año'].max()), value=int(df['Año'].max()))\n",
        "            mes = st.slider(\"Mes\", 1, 12, 1)\n",
        "            categoria = st.selectbox(\"Categoría\", list(encoded_options['Categoría'].keys()))\n",
        "            subcategoria = st.selectbox(\"Subcategoría\", list(encoded_options['Subcategoría'].keys()))\n",
        "\n",
        "        with col2:\n",
        "            region = st.selectbox(\"Región\", list(encoded_options['Región'].keys()))\n",
        "            segmento = st.selectbox(\"Segmento\", list(encoded_options['Segmento'].keys()))\n",
        "            cantidad = st.number_input(\"Cantidad\", min_value=1, value=1)\n",
        "            descuento = st.number_input(\"Descuento\", min_value=0.0, max_value=1.0, value=0.0, step=0.01)\n",
        "\n",
        "        input_data = pd.DataFrame({\n",
        "            'Año': [año],\n",
        "            'Mes': [mes],\n",
        "            'Categoría': [encoded_options['Categoría'][categoria]],\n",
        "            'Subcategoría': [encoded_options['Subcategoría'][subcategoria]],\n",
        "            'Región': [encoded_options['Región'][region]],\n",
        "            'Segmento': [encoded_options['Segmento'][segmento]],\n",
        "            'Cantidad': [cantidad],\n",
        "            'Descuento': [descuento]\n",
        "        })\n",
        "\n",
        "        pred = model.predict(input_data)[0]\n",
        "        st.metric(label=\"💰 Predicción de ventas\", value=f\"${pred:,.2f}\")\n",
        "\n",
        "        # ===============================\n",
        "        # Importancia de variables\n",
        "        # ===============================\n",
        "        st.subheader(\"🔍 Importancia de variables\")\n",
        "        importancia = pd.DataFrame({\n",
        "            \"Variable\": X.columns,\n",
        "            \"Importancia\": model.feature_importances_\n",
        "        }).sort_values(by=\"Importancia\", ascending=False)\n",
        "        st.bar_chart(importancia.set_index(\"Variable\"))\n",
        "\n",
        "if __name__ == \"__main__\":\n",
        "    main()"
      ],
      "metadata": {
        "colab": {
          "base_uri": "https://localhost:8080/"
        },
        "id": "zTw3W8_aHn19",
        "outputId": "02a0756b-c34a-439c-c5c1-35a9a5ef71e2"
      },
      "execution_count": 77,
      "outputs": [
        {
          "output_type": "stream",
          "name": "stdout",
          "text": [
            "Overwriting app.py\n"
          ]
        }
      ]
    },
    {
      "cell_type": "code",
      "source": [
        "# ----------------------------------\n",
        "# Configurar ngrok y ejecutar Streamlit\n",
        "# ----------------------------------\n",
        "from pyngrok import ngrok\n",
        "\n",
        "# Autenticación de ngrok\n",
        "ngrok.set_auth_token(\"TU TOKEN DE STREAMLIT")"
      ],
      "metadata": {
        "id": "iT-qRvaKMIWJ"
      },
      "execution_count": 78,
      "outputs": []
    },
    {
      "cell_type": "code",
      "source": [
        "# Conectar ngrok al puerto 8501\n",
        "public_url = ngrok.connect(addr=8501)\n",
        "print(f\"Tu dashboard público estará disponible en: {public_url}\")"
      ],
      "metadata": {
        "colab": {
          "base_uri": "https://localhost:8080/"
        },
        "id": "IEnTZIlVMXEm",
        "outputId": "8bed667f-66e2-41d6-c312-1b62a5eee7c5"
      },
      "execution_count": 79,
      "outputs": [
        {
          "output_type": "stream",
          "name": "stdout",
          "text": [
            "Tu dashboard público estará disponible en: NgrokTunnel: \"https://9988e3140efe.ngrok-free.app\" -> \"http://localhost:8501\"\n"
          ]
        }
      ]
    },
    {
      "cell_type": "code",
      "source": [
        "# Ejecutar Streamlit en modo headless\n",
        "!streamlit run app.py --server.port 8501 --server.headless true"
      ],
      "metadata": {
        "colab": {
          "base_uri": "https://localhost:8080/"
        },
        "id": "i73svgl0Kk2t",
        "outputId": "ecb46ef1-b18d-4fd0-af5f-d28673d163eb"
      },
      "execution_count": 80,
      "outputs": [
        {
          "output_type": "stream",
          "name": "stdout",
          "text": [
            "\n",
            "Collecting usage statistics. To deactivate, set browser.gatherUsageStats to false.\n",
            "\u001b[0m\n",
            "\u001b[0m\n",
            "\u001b[34m\u001b[1m  You can now view your Streamlit app in your browser.\u001b[0m\n",
            "\u001b[0m\n",
            "\u001b[34m  Local URL: \u001b[0m\u001b[1mhttp://localhost:8501\u001b[0m\n",
            "\u001b[34m  Network URL: \u001b[0m\u001b[1mhttp://172.28.0.12:8501\u001b[0m\n",
            "\u001b[34m  External URL: \u001b[0m\u001b[1mhttp://35.185.59.156:8501\u001b[0m\n",
            "\u001b[0m\n",
            "\u001b[34m  Stopping...\u001b[0m\n",
            "^C\n"
          ]
        }
      ]
    }
  ]
}
